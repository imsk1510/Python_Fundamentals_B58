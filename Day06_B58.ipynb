{
 "cells": [
  {
   "cell_type": "code",
   "execution_count": null,
   "id": "db4b2a39",
   "metadata": {},
   "outputs": [],
   "source": [
    "# Introduction to looping statement"
   ]
  },
  {
   "cell_type": "code",
   "execution_count": 2,
   "id": "f6096aef",
   "metadata": {},
   "outputs": [],
   "source": [
    "students = [\"kartik\",\"naveen\",\"faisal\",\"laiba\",\"hameed\",\"pavitra\"]"
   ]
  },
  {
   "cell_type": "code",
   "execution_count": 3,
   "id": "3839c401",
   "metadata": {},
   "outputs": [
    {
     "name": "stdout",
     "output_type": "stream",
     "text": [
      "['kartik', 'naveen', 'faisal', 'laiba', 'hameed', 'pavitra']\n"
     ]
    }
   ],
   "source": [
    "print(students)"
   ]
  },
  {
   "cell_type": "code",
   "execution_count": 4,
   "id": "b2f852bc",
   "metadata": {},
   "outputs": [
    {
     "data": {
      "text/plain": [
       "list"
      ]
     },
     "execution_count": 4,
     "metadata": {},
     "output_type": "execute_result"
    }
   ],
   "source": [
    "type(students)"
   ]
  },
  {
   "cell_type": "code",
   "execution_count": null,
   "id": "d2cce695",
   "metadata": {},
   "outputs": [],
   "source": [
    "#I want to appreciate the students"
   ]
  },
  {
   "cell_type": "code",
   "execution_count": 8,
   "id": "ca7ce0aa",
   "metadata": {},
   "outputs": [
    {
     "name": "stdout",
     "output_type": "stream",
     "text": [
      "Keep up the good work,Kartik.\n"
     ]
    }
   ],
   "source": [
    "message = f\"Keep up the good work,{students[0].title()}.\"\n",
    "print(message)"
   ]
  },
  {
   "cell_type": "code",
   "execution_count": 9,
   "id": "dc19e7d0",
   "metadata": {},
   "outputs": [
    {
     "name": "stdout",
     "output_type": "stream",
     "text": [
      "Keep up the good work,Naveen.\n"
     ]
    }
   ],
   "source": [
    "message = f\"Keep up the good work,{students[1].title()}.\"\n",
    "print(message)"
   ]
  },
  {
   "cell_type": "code",
   "execution_count": 10,
   "id": "0d646b6f",
   "metadata": {},
   "outputs": [
    {
     "name": "stdout",
     "output_type": "stream",
     "text": [
      "Keep up the good work,Faisal.\n"
     ]
    }
   ],
   "source": [
    "message = f\"Keep up the good work,{students[2].title()}.\"\n",
    "print(message)"
   ]
  },
  {
   "cell_type": "code",
   "execution_count": null,
   "id": "2f208bb8",
   "metadata": {},
   "outputs": [],
   "source": [
    "# General syntax for FOR LOOP:"
   ]
  },
  {
   "cell_type": "code",
   "execution_count": null,
   "id": "a2db54b1",
   "metadata": {},
   "outputs": [],
   "source": [
    "# formula of for loop\n",
    "\n",
    "for tempvar in mainvar:\n",
    "    print(tempvar)"
   ]
  },
  {
   "cell_type": "code",
   "execution_count": 11,
   "id": "a1d0c805",
   "metadata": {},
   "outputs": [
    {
     "name": "stdout",
     "output_type": "stream",
     "text": [
      "Keep up the good work,Kartik.\n",
      "Keep up the good work,Naveen.\n",
      "Keep up the good work,Faisal.\n",
      "Keep up the good work,Laiba.\n",
      "Keep up the good work,Hameed.\n",
      "Keep up the good work,Pavitra.\n"
     ]
    }
   ],
   "source": [
    "for x in students:\n",
    "    print(f\"Keep up the good work,{x.title()}.\")"
   ]
  },
  {
   "cell_type": "code",
   "execution_count": 12,
   "id": "5af3f21d",
   "metadata": {},
   "outputs": [
    {
     "name": "stdout",
     "output_type": "stream",
     "text": [
      "kartik\n",
      "naveen\n",
      "faisal\n",
      "laiba\n",
      "hameed\n",
      "pavitra\n"
     ]
    }
   ],
   "source": [
    "for a in students:\n",
    "    print(a)"
   ]
  },
  {
   "cell_type": "code",
   "execution_count": 13,
   "id": "46415955",
   "metadata": {},
   "outputs": [
    {
     "ename": "IndentationError",
     "evalue": "expected an indented block (Temp/ipykernel_25076/4141953483.py, line 2)",
     "output_type": "error",
     "traceback": [
      "\u001b[1;36m  File \u001b[1;32m\"C:\\Users\\sohai\\AppData\\Local\\Temp/ipykernel_25076/4141953483.py\"\u001b[1;36m, line \u001b[1;32m2\u001b[0m\n\u001b[1;33m    print(a)\u001b[0m\n\u001b[1;37m    ^\u001b[0m\n\u001b[1;31mIndentationError\u001b[0m\u001b[1;31m:\u001b[0m expected an indented block\n"
     ]
    }
   ],
   "source": [
    "for a in students: #indentation\n",
    "print(a)"
   ]
  },
  {
   "cell_type": "code",
   "execution_count": null,
   "id": "fb17ad96",
   "metadata": {},
   "outputs": [],
   "source": [
    "#req : Looking forward for todays github url"
   ]
  },
  {
   "cell_type": "code",
   "execution_count": 14,
   "id": "0e2534a6",
   "metadata": {},
   "outputs": [
    {
     "name": "stdout",
     "output_type": "stream",
     "text": [
      "Keep up the good work,Kartik.\n",
      "Looking forward for todays github url,Kartik.\n",
      "Keep up the good work,Naveen.\n",
      "Looking forward for todays github url,Naveen.\n",
      "Keep up the good work,Faisal.\n",
      "Looking forward for todays github url,Faisal.\n",
      "Keep up the good work,Laiba.\n",
      "Looking forward for todays github url,Laiba.\n",
      "Keep up the good work,Hameed.\n",
      "Looking forward for todays github url,Hameed.\n",
      "Keep up the good work,Pavitra.\n",
      "Looking forward for todays github url,Pavitra.\n"
     ]
    }
   ],
   "source": [
    "for x in students:\n",
    "    print(f\"Keep up the good work,{x.title()}.\")\n",
    "    print(f\"Looking forward for todays github url,{x.title()}.\")"
   ]
  },
  {
   "cell_type": "code",
   "execution_count": 15,
   "id": "f83bfce2",
   "metadata": {},
   "outputs": [
    {
     "name": "stdout",
     "output_type": "stream",
     "text": [
      "Keep up the good work,Kartik.\n",
      "Looking forward for todays github url,Kartik.\n",
      "\n",
      "Keep up the good work,Naveen.\n",
      "Looking forward for todays github url,Naveen.\n",
      "\n",
      "Keep up the good work,Faisal.\n",
      "Looking forward for todays github url,Faisal.\n",
      "\n",
      "Keep up the good work,Laiba.\n",
      "Looking forward for todays github url,Laiba.\n",
      "\n",
      "Keep up the good work,Hameed.\n",
      "Looking forward for todays github url,Hameed.\n",
      "\n",
      "Keep up the good work,Pavitra.\n",
      "Looking forward for todays github url,Pavitra.\n",
      "\n"
     ]
    }
   ],
   "source": [
    "for x in students:\n",
    "    print(f\"Keep up the good work,{x.title()}.\")\n",
    "    print(f\"Looking forward for todays github url,{x.title()}.\\n\")  #\\n new line will be introduced"
   ]
  },
  {
   "cell_type": "code",
   "execution_count": 16,
   "id": "c5261b57",
   "metadata": {},
   "outputs": [
    {
     "name": "stdout",
     "output_type": "stream",
     "text": [
      "Keep up the good work,Kartik.\n",
      "Looking forward for todays github url,Kartik.\n",
      "\n",
      "Keep up the good work,Naveen.\n",
      "Looking forward for todays github url,Naveen.\n",
      "\n",
      "Keep up the good work,Faisal.\n",
      "Looking forward for todays github url,Faisal.\n",
      "\n",
      "Keep up the good work,Laiba.\n",
      "Looking forward for todays github url,Laiba.\n",
      "\n",
      "Keep up the good work,Hameed.\n",
      "Looking forward for todays github url,Hameed.\n",
      "\n",
      "Keep up the good work,Pavitra.\n",
      "Looking forward for todays github url,Pavitra.\n",
      "\n",
      "Thank u all for joining the session.\n"
     ]
    }
   ],
   "source": [
    "for x in students:\n",
    "    print(f\"Keep up the good work,{x.title()}.\")  #its inside the loop\n",
    "    print(f\"Looking forward for todays github url,{x.title()}.\\n\")\n",
    "    \n",
    "print(\"Thank u all for joining the session.\")  #its out of the loop, hence will be printed only once"
   ]
  },
  {
   "cell_type": "code",
   "execution_count": null,
   "id": "d0a30e82",
   "metadata": {},
   "outputs": [],
   "source": [
    "# Introduction to conditional statements:"
   ]
  },
  {
   "cell_type": "code",
   "execution_count": null,
   "id": "a74d0e8f",
   "metadata": {},
   "outputs": [],
   "source": [
    "if else"
   ]
  },
  {
   "cell_type": "code",
   "execution_count": null,
   "id": "1844bf24",
   "metadata": {},
   "outputs": [],
   "source": []
  },
  {
   "cell_type": "code",
   "execution_count": null,
   "id": "fe440b81",
   "metadata": {},
   "outputs": [],
   "source": []
  },
  {
   "cell_type": "code",
   "execution_count": null,
   "id": "85714953",
   "metadata": {},
   "outputs": [],
   "source": []
  }
 ],
 "metadata": {
  "kernelspec": {
   "display_name": "Python 3 (ipykernel)",
   "language": "python",
   "name": "python3"
  },
  "language_info": {
   "codemirror_mode": {
    "name": "ipython",
    "version": 3
   },
   "file_extension": ".py",
   "mimetype": "text/x-python",
   "name": "python",
   "nbconvert_exporter": "python",
   "pygments_lexer": "ipython3",
   "version": "3.9.7"
  }
 },
 "nbformat": 4,
 "nbformat_minor": 5
}
