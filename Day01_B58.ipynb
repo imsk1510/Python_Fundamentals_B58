{
 "cells": [
  {
   "cell_type": "code",
   "execution_count": null,
   "id": "06c96ae9",
   "metadata": {},
   "outputs": [],
   "source": [
    "www.anaconda.com\n",
    "1. open www.anaconda.com\n",
    "2. choose the download option available on the screen\n",
    "3. Go to downloads and run the .exe file\n"
   ]
  },
  {
   "cell_type": "code",
   "execution_count": 1,
   "id": "a445a91d",
   "metadata": {},
   "outputs": [
    {
     "name": "stdout",
     "output_type": "stream",
     "text": [
      "Hello all, welcome to the python world.\n"
     ]
    }
   ],
   "source": [
    "print(\"Hello all, welcome to the python world.\")"
   ]
  },
  {
   "cell_type": "code",
   "execution_count": null,
   "id": "5ce48aa8",
   "metadata": {},
   "outputs": [],
   "source": []
  }
 ],
 "metadata": {
  "kernelspec": {
   "display_name": "Python 3 (ipykernel)",
   "language": "python",
   "name": "python3"
  },
  "language_info": {
   "codemirror_mode": {
    "name": "ipython",
    "version": 3
   },
   "file_extension": ".py",
   "mimetype": "text/x-python",
   "name": "python",
   "nbconvert_exporter": "python",
   "pygments_lexer": "ipython3",
   "version": "3.9.7"
  }
 },
 "nbformat": 4,
 "nbformat_minor": 5
}
