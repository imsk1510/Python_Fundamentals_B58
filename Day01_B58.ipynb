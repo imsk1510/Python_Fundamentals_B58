{
 "cells": [
  {
   "cell_type": "code",
   "execution_count": null,
   "id": "afc1e376",
   "metadata": {},
   "outputs": [],
   "source": [
    "Softwares needed:\n",
    "    \n",
    "1. www.anaconda.com\n",
    "2. www.github.com"
   ]
  },
  {
   "cell_type": "code",
   "execution_count": null,
   "id": "a72dde6c",
   "metadata": {},
   "outputs": [],
   "source": [
    "www.anaconda.com\n",
    "1. open www.anaconda.com\n",
    "2. choose the download option available on the screen\n",
    "3. Go to downloads and run the .exe file===>next===>next===>next and anaconda will be installed in your system\n",
    "4. It will create a shortcut \"anaconda navigator\" on your desktop\n",
    "5. Open the \"anaconda navigator\" ===> choose \"Jupyternotebook\" click on launch\n",
    "6. It will be opened in your browser."
   ]
  },
  {
   "cell_type": "code",
   "execution_count": 1,
   "id": "e016009e",
   "metadata": {},
   "outputs": [
    {
     "name": "stdout",
     "output_type": "stream",
     "text": [
      "Hello all, welcome to the python world.\n"
     ]
    }
   ],
   "source": [
    "print(\"Hello all, welcome to the python world.\")"
   ]
  },
  {
   "cell_type": "code",
   "execution_count": null,
   "id": "6c00be14",
   "metadata": {},
   "outputs": [],
   "source": [
    "file======> download as ========> notebook.ipynb"
   ]
  },
  {
   "cell_type": "code",
   "execution_count": null,
   "id": "3b4ab7e0",
   "metadata": {},
   "outputs": [],
   "source": [
    "www.github.com\n",
    "1. open www.github.com\n",
    "2. Create your account by doing the signup\n",
    "3. login to github\n",
    "4. create the repository (python fundamentals)\n",
    "5. upload your code file into the repo\n",
    "6. commit the code"
   ]
  }
 ],
 "metadata": {
  "kernelspec": {
   "display_name": "Python 3 (ipykernel)",
   "language": "python",
   "name": "python3"
  },
  "language_info": {
   "codemirror_mode": {
    "name": "ipython",
    "version": 3
   },
   "file_extension": ".py",
   "mimetype": "text/x-python",
   "name": "python",
   "nbconvert_exporter": "python",
   "pygments_lexer": "ipython3",
   "version": "3.9.7"
  }
 },
 "nbformat": 4,
 "nbformat_minor": 5
}
