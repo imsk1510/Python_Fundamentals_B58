{
 "cells": [
  {
   "cell_type": "code",
   "execution_count": null,
   "id": "86fad46d",
   "metadata": {},
   "outputs": [],
   "source": [
    "Organizing the list data type:"
   ]
  },
  {
   "cell_type": "code",
   "execution_count": null,
   "id": "5748696a",
   "metadata": {},
   "outputs": [],
   "source": []
  },
  {
   "cell_type": "code",
   "execution_count": 2,
   "id": "0822a6f6",
   "metadata": {},
   "outputs": [
    {
     "name": "stdout",
     "output_type": "stream",
     "text": [
      "['rajesh', 'naveed', 'vindhya', 'asna', 'laiba', 'radhika', 'nikhil']\n"
     ]
    }
   ],
   "source": [
    "students = ['rajesh','naveed','vindhya','asna','laiba','radhika','nikhil']\n",
    "print(students)"
   ]
  },
  {
   "cell_type": "code",
   "execution_count": null,
   "id": "ad7c8acf",
   "metadata": {},
   "outputs": [],
   "source": [
    "#req: want to print naveed name, what is the index I have to use"
   ]
  },
  {
   "cell_type": "code",
   "execution_count": 3,
   "id": "63cb59cb",
   "metadata": {},
   "outputs": [
    {
     "name": "stdout",
     "output_type": "stream",
     "text": [
      "naveed\n"
     ]
    }
   ],
   "source": [
    "print(students[1])"
   ]
  },
  {
   "cell_type": "code",
   "execution_count": 5,
   "id": "82557887",
   "metadata": {},
   "outputs": [
    {
     "name": "stdout",
     "output_type": "stream",
     "text": [
      "Naveed\n"
     ]
    }
   ],
   "source": [
    "print(students[1].title())"
   ]
  },
  {
   "cell_type": "code",
   "execution_count": null,
   "id": "b1a293f0",
   "metadata": {},
   "outputs": [],
   "source": []
  },
  {
   "cell_type": "code",
   "execution_count": 7,
   "id": "9ed6b406",
   "metadata": {},
   "outputs": [],
   "source": [
    "cars = ['kia','audi','ciaz','benz','suzuki','bmw']"
   ]
  },
  {
   "cell_type": "code",
   "execution_count": null,
   "id": "fdb78466",
   "metadata": {},
   "outputs": [],
   "source": [
    "# req: I want to arrange the above list in alphabetical order"
   ]
  },
  {
   "cell_type": "code",
   "execution_count": null,
   "id": "712a7ec8",
   "metadata": {},
   "outputs": [],
   "source": [
    "#2 approaches\n",
    "1. temp approach: ==========>sorted=====>we can retain the original order\n",
    "2. permanent approach ======>sort=======> changes are applied permanently"
   ]
  },
  {
   "cell_type": "code",
   "execution_count": 8,
   "id": "36458724",
   "metadata": {},
   "outputs": [
    {
     "name": "stdout",
     "output_type": "stream",
     "text": [
      "['audi', 'benz', 'bmw', 'ciaz', 'kia', 'suzuki']\n"
     ]
    }
   ],
   "source": [
    "print(sorted(cars))"
   ]
  },
  {
   "cell_type": "code",
   "execution_count": null,
   "id": "b2a2f44f",
   "metadata": {},
   "outputs": [],
   "source": [
    "benz & bmw ======> e & m"
   ]
  },
  {
   "cell_type": "code",
   "execution_count": 9,
   "id": "89c93a27",
   "metadata": {},
   "outputs": [
    {
     "name": "stdout",
     "output_type": "stream",
     "text": [
      "['kia', 'audi', 'ciaz', 'benz', 'suzuki', 'bmw']\n"
     ]
    }
   ],
   "source": [
    "print(cars)"
   ]
  },
  {
   "cell_type": "code",
   "execution_count": null,
   "id": "8b929520",
   "metadata": {},
   "outputs": [],
   "source": []
  },
  {
   "cell_type": "code",
   "execution_count": 10,
   "id": "9784db00",
   "metadata": {},
   "outputs": [
    {
     "name": "stdout",
     "output_type": "stream",
     "text": [
      "['audi', 'benz', 'bmw', 'ciaz', 'kia', 'suzuki']\n"
     ]
    }
   ],
   "source": [
    "cars.sort()    #this will permantly sort the list and the original list cannot be retained\n",
    "print(cars)"
   ]
  },
  {
   "cell_type": "code",
   "execution_count": 11,
   "id": "6b86c64b",
   "metadata": {},
   "outputs": [
    {
     "name": "stdout",
     "output_type": "stream",
     "text": [
      "['audi', 'benz', 'bmw', 'ciaz', 'kia', 'suzuki']\n"
     ]
    }
   ],
   "source": [
    "print(cars)"
   ]
  },
  {
   "cell_type": "code",
   "execution_count": null,
   "id": "07894fed",
   "metadata": {},
   "outputs": [],
   "source": []
  },
  {
   "cell_type": "code",
   "execution_count": null,
   "id": "77c60637",
   "metadata": {},
   "outputs": [],
   "source": [
    "interview ques: what is the difference between sorted and sort method in a list....?"
   ]
  },
  {
   "cell_type": "code",
   "execution_count": null,
   "id": "3975aa3b",
   "metadata": {},
   "outputs": [],
   "source": []
  },
  {
   "cell_type": "code",
   "execution_count": null,
   "id": "eac50754",
   "metadata": {},
   "outputs": [],
   "source": [
    "#req: i want to print the list ion the reverse order"
   ]
  },
  {
   "cell_type": "code",
   "execution_count": 12,
   "id": "0cc049d3",
   "metadata": {},
   "outputs": [
    {
     "name": "stdout",
     "output_type": "stream",
     "text": [
      "['audi', 'benz', 'bmw', 'ciaz', 'kia', 'suzuki']\n"
     ]
    }
   ],
   "source": [
    "print(cars)"
   ]
  },
  {
   "cell_type": "code",
   "execution_count": 13,
   "id": "3503c094",
   "metadata": {},
   "outputs": [
    {
     "name": "stdout",
     "output_type": "stream",
     "text": [
      "['suzuki', 'kia', 'ciaz', 'bmw', 'benz', 'audi']\n"
     ]
    }
   ],
   "source": [
    "cars.reverse()   \n",
    "print(cars)"
   ]
  },
  {
   "cell_type": "code",
   "execution_count": null,
   "id": "07c2caa3",
   "metadata": {},
   "outputs": [],
   "source": []
  },
  {
   "cell_type": "code",
   "execution_count": null,
   "id": "b1607d54",
   "metadata": {},
   "outputs": [],
   "source": [
    "# i want to canculate the no. of elements present in the list....?"
   ]
  },
  {
   "cell_type": "code",
   "execution_count": 14,
   "id": "acd10533",
   "metadata": {},
   "outputs": [
    {
     "data": {
      "text/plain": [
       "6"
      ]
     },
     "execution_count": 14,
     "metadata": {},
     "output_type": "execute_result"
    }
   ],
   "source": [
    "len(cars)"
   ]
  },
  {
   "cell_type": "code",
   "execution_count": null,
   "id": "0924483a",
   "metadata": {},
   "outputs": [],
   "source": [
    "SLICING OF THE LIST DATATYPE"
   ]
  },
  {
   "cell_type": "code",
   "execution_count": 15,
   "id": "a54a4758",
   "metadata": {},
   "outputs": [
    {
     "name": "stdout",
     "output_type": "stream",
     "text": [
      "['rajesh', 'naveed', 'vindhya', 'asna', 'laiba', 'radhika', 'nikhil']\n"
     ]
    }
   ],
   "source": [
    "print(students)"
   ]
  },
  {
   "cell_type": "code",
   "execution_count": null,
   "id": "ec749416",
   "metadata": {},
   "outputs": [],
   "source": [
    "# general syntax of slicing"
   ]
  },
  {
   "cell_type": "code",
   "execution_count": null,
   "id": "4ef95db0",
   "metadata": {},
   "outputs": [],
   "source": [
    "print(list[start_value:stop_value:step_count])"
   ]
  },
  {
   "cell_type": "code",
   "execution_count": null,
   "id": "23e53509",
   "metadata": {},
   "outputs": [],
   "source": [
    "NOTE: stop value is always exclusive +1 to include the stop value"
   ]
  },
  {
   "cell_type": "code",
   "execution_count": null,
   "id": "3b936aed",
   "metadata": {},
   "outputs": [],
   "source": [
    "#req: i want to include rajesh and naveed in a list....?"
   ]
  },
  {
   "cell_type": "code",
   "execution_count": 16,
   "id": "fa0fa528",
   "metadata": {},
   "outputs": [
    {
     "name": "stdout",
     "output_type": "stream",
     "text": [
      "['rajesh', 'naveed']\n"
     ]
    }
   ],
   "source": [
    "print(students[0:2])"
   ]
  },
  {
   "cell_type": "code",
   "execution_count": 17,
   "id": "c7a85415",
   "metadata": {},
   "outputs": [
    {
     "name": "stdout",
     "output_type": "stream",
     "text": [
      "['vindhya', 'asna']\n"
     ]
    }
   ],
   "source": [
    "print(students[2:4])"
   ]
  },
  {
   "cell_type": "code",
   "execution_count": 18,
   "id": "c84d07c7",
   "metadata": {},
   "outputs": [
    {
     "name": "stdout",
     "output_type": "stream",
     "text": [
      "['laiba', 'radhika']\n"
     ]
    }
   ],
   "source": [
    "print(students[4:6])"
   ]
  },
  {
   "cell_type": "code",
   "execution_count": 20,
   "id": "7615e353",
   "metadata": {},
   "outputs": [
    {
     "name": "stdout",
     "output_type": "stream",
     "text": [
      "['rajesh', 'vindhya', 'laiba', 'nikhil']\n"
     ]
    }
   ],
   "source": [
    "print(students[0:8:2]) #it will skip the alternate name"
   ]
  },
  {
   "cell_type": "code",
   "execution_count": 21,
   "id": "9176b613",
   "metadata": {},
   "outputs": [
    {
     "name": "stdout",
     "output_type": "stream",
     "text": [
      "['rajesh', 'asna', 'nikhil']\n"
     ]
    }
   ],
   "source": [
    "print(students[0::3])  #stop point is optional"
   ]
  },
  {
   "cell_type": "code",
   "execution_count": null,
   "id": "0d2ff637",
   "metadata": {},
   "outputs": [],
   "source": []
  },
  {
   "cell_type": "code",
   "execution_count": null,
   "id": "0b944f1d",
   "metadata": {},
   "outputs": [],
   "source": []
  },
  {
   "cell_type": "code",
   "execution_count": null,
   "id": "c6ed0730",
   "metadata": {},
   "outputs": [],
   "source": []
  },
  {
   "cell_type": "code",
   "execution_count": null,
   "id": "dd4ba2a3",
   "metadata": {},
   "outputs": [],
   "source": []
  }
 ],
 "metadata": {
  "kernelspec": {
   "display_name": "Python 3 (ipykernel)",
   "language": "python",
   "name": "python3"
  },
  "language_info": {
   "codemirror_mode": {
    "name": "ipython",
    "version": 3
   },
   "file_extension": ".py",
   "mimetype": "text/x-python",
   "name": "python",
   "nbconvert_exporter": "python",
   "pygments_lexer": "ipython3",
   "version": "3.9.7"
  }
 },
 "nbformat": 4,
 "nbformat_minor": 5
}
