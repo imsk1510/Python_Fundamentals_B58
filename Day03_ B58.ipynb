{
 "cells": [
  {
   "cell_type": "code",
   "execution_count": null,
   "id": "f47feecd",
   "metadata": {},
   "outputs": [],
   "source": [
    "Continuation with strings"
   ]
  },
  {
   "cell_type": "code",
   "execution_count": null,
   "id": "a94bda7b",
   "metadata": {},
   "outputs": [],
   "source": []
  },
  {
   "cell_type": "code",
   "execution_count": null,
   "id": "c5af1674",
   "metadata": {},
   "outputs": [],
   "source": [
    "Introduction to string methods"
   ]
  },
  {
   "cell_type": "code",
   "execution_count": null,
   "id": "e5f09882",
   "metadata": {},
   "outputs": [],
   "source": []
  },
  {
   "cell_type": "code",
   "execution_count": 3,
   "id": "00cef8f2",
   "metadata": {},
   "outputs": [
    {
     "name": "stdout",
     "output_type": "stream",
     "text": [
      "suhail\n"
     ]
    }
   ],
   "source": [
    "name = 'suhail'\n",
    "print(name)"
   ]
  },
  {
   "cell_type": "code",
   "execution_count": 4,
   "id": "73120394",
   "metadata": {},
   "outputs": [
    {
     "data": {
      "text/plain": [
       "str"
      ]
     },
     "execution_count": 4,
     "metadata": {},
     "output_type": "execute_result"
    }
   ],
   "source": [
    "type(name)"
   ]
  },
  {
   "cell_type": "code",
   "execution_count": null,
   "id": "f37a2420",
   "metadata": {},
   "outputs": [],
   "source": [
    "string====> str"
   ]
  },
  {
   "cell_type": "code",
   "execution_count": 5,
   "id": "5eac0dc9",
   "metadata": {},
   "outputs": [
    {
     "data": {
      "text/plain": [
       "str"
      ]
     },
     "execution_count": 5,
     "metadata": {},
     "output_type": "execute_result"
    }
   ],
   "source": [
    "name1 = \"hina\"\n",
    "type(name1)"
   ]
  },
  {
   "cell_type": "code",
   "execution_count": 6,
   "id": "2f19fa00",
   "metadata": {},
   "outputs": [
    {
     "name": "stdout",
     "output_type": "stream",
     "text": [
      "rajesh kumar\n"
     ]
    }
   ],
   "source": [
    "fullname = \"rajesh kumar\"\n",
    "print(fullname)"
   ]
  },
  {
   "cell_type": "code",
   "execution_count": 7,
   "id": "8e098c22",
   "metadata": {},
   "outputs": [
    {
     "name": "stdout",
     "output_type": "stream",
     "text": [
      "Rajesh Kumar\n"
     ]
    }
   ],
   "source": [
    "print(fullname.title())  #it will make the fist letter of each word capital"
   ]
  },
  {
   "cell_type": "code",
   "execution_count": 8,
   "id": "81afb234",
   "metadata": {},
   "outputs": [
    {
     "name": "stdout",
     "output_type": "stream",
     "text": [
      "RAJESH KUMAR\n"
     ]
    }
   ],
   "source": [
    "print(fullname.upper())  #it will convert all the text in UPPER CASE"
   ]
  },
  {
   "cell_type": "code",
   "execution_count": 9,
   "id": "47da01df",
   "metadata": {},
   "outputs": [
    {
     "name": "stdout",
     "output_type": "stream",
     "text": [
      "rajesh kumar\n"
     ]
    }
   ],
   "source": [
    "print(fullname.lower())  #it will convert all the text in lower case"
   ]
  },
  {
   "cell_type": "code",
   "execution_count": null,
   "id": "d5e0aaae",
   "metadata": {},
   "outputs": [],
   "source": [
    "INTRODUCTION TO F STRINGS:"
   ]
  },
  {
   "cell_type": "code",
   "execution_count": null,
   "id": "ef6f440d",
   "metadata": {},
   "outputs": [],
   "source": [
    "#general syntax for f strings"
   ]
  },
  {
   "cell_type": "code",
   "execution_count": null,
   "id": "5b8c7824",
   "metadata": {},
   "outputs": [],
   "source": [
    "f\"custom message{placeholder1}{placeholder2}........{placeholder..n}\""
   ]
  },
  {
   "cell_type": "code",
   "execution_count": 20,
   "id": "bc4e8c24",
   "metadata": {},
   "outputs": [],
   "source": [
    "firstname = \"shahrukh\"\n",
    "lastname = \"khan\""
   ]
  },
  {
   "cell_type": "code",
   "execution_count": null,
   "id": "9e192652",
   "metadata": {},
   "outputs": [],
   "source": [
    "#req: get the full name"
   ]
  },
  {
   "cell_type": "code",
   "execution_count": 27,
   "id": "2cf3303e",
   "metadata": {},
   "outputs": [
    {
     "name": "stdout",
     "output_type": "stream",
     "text": [
      "Shahrukh Khan\n"
     ]
    }
   ],
   "source": [
    "full_name = f\"{firstname} {lastname}\"\n",
    "print(full_name.title())"
   ]
  },
  {
   "cell_type": "code",
   "execution_count": 30,
   "id": "51594106",
   "metadata": {},
   "outputs": [
    {
     "name": "stdout",
     "output_type": "stream",
     "text": [
      "Keep up the good work, Shahrukh Khan\n"
     ]
    }
   ],
   "source": [
    "message = f\"Keep up the good work, {full_name.title()}\"\n",
    "print(message)"
   ]
  },
  {
   "cell_type": "code",
   "execution_count": null,
   "id": "6fea8d18",
   "metadata": {},
   "outputs": [],
   "source": []
  },
  {
   "cell_type": "code",
   "execution_count": null,
   "id": "698ae965",
   "metadata": {},
   "outputs": [],
   "source": [
    "Adding whitespaces to strings:"
   ]
  },
  {
   "cell_type": "code",
   "execution_count": null,
   "id": "fc9a48c6",
   "metadata": {},
   "outputs": [],
   "source": []
  },
  {
   "cell_type": "code",
   "execution_count": 31,
   "id": "8ef13f35",
   "metadata": {},
   "outputs": [
    {
     "name": "stdout",
     "output_type": "stream",
     "text": [
      "favourite language: pythonC++javacpascalcobal\n"
     ]
    }
   ],
   "source": [
    "print(\"favourite language: pythonC++javacpascalcobal\")"
   ]
  },
  {
   "cell_type": "code",
   "execution_count": 33,
   "id": "da976a5b",
   "metadata": {},
   "outputs": [
    {
     "name": "stdout",
     "output_type": "stream",
     "text": [
      "favourite language:\n",
      "python\n",
      "C++\n",
      "java\n",
      "c\n",
      "pascal\n",
      "cobal\n"
     ]
    }
   ],
   "source": [
    "print(\"favourite languages are:\\npython\\nC++\\njava\\nc\\npascal\\ncobal\") #new line delimiter \\n (it will create a new line)"
   ]
  },
  {
   "cell_type": "code",
   "execution_count": 34,
   "id": "16eef9f2",
   "metadata": {},
   "outputs": [
    {
     "name": "stdout",
     "output_type": "stream",
     "text": [
      "favourite language:\n",
      "\tpython\n",
      "\tC++\n",
      "\tjava\n",
      "\tc\n",
      "\tpascal\n",
      "\tcobal\n"
     ]
    }
   ],
   "source": [
    "print(\"favourite language:\\n\\tpython\\n\\tC++\\n\\tjava\\n\\tc\\n\\tpascal\\n\\tcobal\") # \\t is tab delimiter"
   ]
  },
  {
   "cell_type": "code",
   "execution_count": null,
   "id": "f476ec1f",
   "metadata": {},
   "outputs": [],
   "source": []
  }
 ],
 "metadata": {
  "kernelspec": {
   "display_name": "Python 3 (ipykernel)",
   "language": "python",
   "name": "python3"
  },
  "language_info": {
   "codemirror_mode": {
    "name": "ipython",
    "version": 3
   },
   "file_extension": ".py",
   "mimetype": "text/x-python",
   "name": "python",
   "nbconvert_exporter": "python",
   "pygments_lexer": "ipython3",
   "version": "3.9.7"
  }
 },
 "nbformat": 4,
 "nbformat_minor": 5
}
