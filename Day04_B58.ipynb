{
 "cells": [
  {
   "cell_type": "code",
   "execution_count": null,
   "id": "564bdf72",
   "metadata": {},
   "outputs": [],
   "source": [
    "Introduction to list datatypes:"
   ]
  },
  {
   "cell_type": "code",
   "execution_count": null,
   "id": "22b4b3ae",
   "metadata": {},
   "outputs": [],
   "source": [
    "definition: A list is a collection of items declared in a particular order.\n",
    "    classification: it is classified as mutable datatype\n",
    "        how to declare the list datatype.........?   []"
   ]
  },
  {
   "cell_type": "code",
   "execution_count": null,
   "id": "3ad3c9fe",
   "metadata": {},
   "outputs": [],
   "source": []
  },
  {
   "cell_type": "code",
   "execution_count": 16,
   "id": "69385b64",
   "metadata": {},
   "outputs": [
    {
     "name": "stdout",
     "output_type": "stream",
     "text": [
      "['suhail', 'kiaan', 'john', 'hina', 'shafi', 'aradhya', 'nusrat']\n"
     ]
    }
   ],
   "source": [
    "students = ['suhail','kiaan','john','hina','shafi','aradhya','nusrat']  #0,1,2,3,4,5\n",
    "print(students)"
   ]
  },
  {
   "cell_type": "code",
   "execution_count": 4,
   "id": "8db0c8a6",
   "metadata": {},
   "outputs": [
    {
     "data": {
      "text/plain": [
       "list"
      ]
     },
     "execution_count": 4,
     "metadata": {},
     "output_type": "execute_result"
    }
   ],
   "source": [
    "type(students)"
   ]
  },
  {
   "cell_type": "code",
   "execution_count": null,
   "id": "81c808ba",
   "metadata": {},
   "outputs": [],
   "source": []
  },
  {
   "cell_type": "code",
   "execution_count": null,
   "id": "6bbb154d",
   "metadata": {},
   "outputs": [],
   "source": [
    "# How to access the above elements from the list"
   ]
  },
  {
   "cell_type": "code",
   "execution_count": null,
   "id": "16be8302",
   "metadata": {},
   "outputs": [],
   "source": [
    "Introduction to indexing 0,1,2,3,......."
   ]
  },
  {
   "cell_type": "code",
   "execution_count": null,
   "id": "a274bba9",
   "metadata": {},
   "outputs": [],
   "source": [
    "#req: i want to access john name from the above list?"
   ]
  },
  {
   "cell_type": "code",
   "execution_count": 7,
   "id": "54032e24",
   "metadata": {},
   "outputs": [
    {
     "name": "stdout",
     "output_type": "stream",
     "text": [
      "john\n"
     ]
    }
   ],
   "source": [
    "print(students[2])"
   ]
  },
  {
   "cell_type": "code",
   "execution_count": null,
   "id": "f7da60d3",
   "metadata": {},
   "outputs": [],
   "source": [
    "#req: i want to access john name from the above list?"
   ]
  },
  {
   "cell_type": "code",
   "execution_count": 15,
   "id": "fb2ecef6",
   "metadata": {},
   "outputs": [
    {
     "name": "stdout",
     "output_type": "stream",
     "text": [
      "Aradhya\n"
     ]
    }
   ],
   "source": [
    "print(students[5].title())"
   ]
  },
  {
   "cell_type": "code",
   "execution_count": null,
   "id": "ee8438d8",
   "metadata": {},
   "outputs": [],
   "source": [
    "1. How to add new elements in the list\n",
    "2. How to modify the elements in the list\n",
    "3. How to delete the elements in the list"
   ]
  },
  {
   "cell_type": "code",
   "execution_count": 17,
   "id": "d428e6a5",
   "metadata": {},
   "outputs": [
    {
     "name": "stdout",
     "output_type": "stream",
     "text": [
      "['suhail', 'kiaan', 'john', 'hina', 'shafi', 'aradhya', 'nusrat']\n"
     ]
    }
   ],
   "source": [
    "print(students)"
   ]
  },
  {
   "cell_type": "code",
   "execution_count": null,
   "id": "c0a7f702",
   "metadata": {},
   "outputs": [],
   "source": [
    "# req: I want to add a name \"sachin\" name to the list"
   ]
  },
  {
   "cell_type": "code",
   "execution_count": 18,
   "id": "519d4e15",
   "metadata": {},
   "outputs": [
    {
     "name": "stdout",
     "output_type": "stream",
     "text": [
      "['suhail', 'kiaan', 'john', 'hina', 'shafi', 'aradhya', 'nusrat', 'sachin']\n"
     ]
    }
   ],
   "source": [
    "students.append('sachin')\n",
    "print(students)"
   ]
  },
  {
   "cell_type": "code",
   "execution_count": null,
   "id": "e36180d3",
   "metadata": {},
   "outputs": [],
   "source": [
    "# req: I want to add a name \"lavanya\" name to the list"
   ]
  },
  {
   "cell_type": "code",
   "execution_count": 19,
   "id": "94c3586a",
   "metadata": {},
   "outputs": [
    {
     "name": "stdout",
     "output_type": "stream",
     "text": [
      "['suhail', 'kiaan', 'john', 'hina', 'shafi', 'aradhya', 'nusrat', 'sachin', 'lavanya']\n"
     ]
    }
   ],
   "source": [
    "students.append('lavanya')\n",
    "print(students)"
   ]
  },
  {
   "cell_type": "code",
   "execution_count": null,
   "id": "055c1f4c",
   "metadata": {},
   "outputs": [],
   "source": [
    "# append method will add the new element to the last in list"
   ]
  },
  {
   "cell_type": "code",
   "execution_count": null,
   "id": "b970d53a",
   "metadata": {},
   "outputs": [],
   "source": [
    "#req: i want to add 'charan' name to the 2nd index"
   ]
  },
  {
   "cell_type": "code",
   "execution_count": 24,
   "id": "9da466a2",
   "metadata": {},
   "outputs": [
    {
     "name": "stdout",
     "output_type": "stream",
     "text": [
      "['suhail', 'kiaan', 'charan', 'john', 'hina', 'shafi', 'aradhya', 'nusrat', 'sachin', 'lavanya']\n"
     ]
    }
   ],
   "source": [
    "students.insert(2,'charan')\n",
    "print(students)"
   ]
  },
  {
   "cell_type": "code",
   "execution_count": null,
   "id": "a73e17d2",
   "metadata": {},
   "outputs": [],
   "source": [
    "interview question: difference between append and insert method in a list.....? **"
   ]
  },
  {
   "cell_type": "code",
   "execution_count": null,
   "id": "5d60d5f5",
   "metadata": {},
   "outputs": [],
   "source": []
  },
  {
   "cell_type": "code",
   "execution_count": null,
   "id": "2ea1283a",
   "metadata": {},
   "outputs": [],
   "source": [
    "#how to modify the elements in the list"
   ]
  },
  {
   "cell_type": "code",
   "execution_count": 25,
   "id": "964b4c42",
   "metadata": {},
   "outputs": [
    {
     "name": "stdout",
     "output_type": "stream",
     "text": [
      "['suhail', 'kiaan', 'charan', 'john', 'hina', 'shafi', 'aradhya', 'nusrat', 'sachin', 'lavanya']\n"
     ]
    }
   ],
   "source": [
    "print(students)"
   ]
  },
  {
   "cell_type": "code",
   "execution_count": null,
   "id": "f3597b2b",
   "metadata": {},
   "outputs": [],
   "source": [
    "#i want to modify 'charan' name to 'chaitanya'"
   ]
  },
  {
   "cell_type": "code",
   "execution_count": 26,
   "id": "90253e1c",
   "metadata": {},
   "outputs": [
    {
     "name": "stdout",
     "output_type": "stream",
     "text": [
      "charan\n"
     ]
    }
   ],
   "source": [
    "print(students[2])"
   ]
  },
  {
   "cell_type": "code",
   "execution_count": 29,
   "id": "90ae33a4",
   "metadata": {},
   "outputs": [],
   "source": [
    "students[2] = 'chaitanya'"
   ]
  },
  {
   "cell_type": "code",
   "execution_count": 30,
   "id": "10efc600",
   "metadata": {},
   "outputs": [
    {
     "name": "stdout",
     "output_type": "stream",
     "text": [
      "chaitanya\n"
     ]
    }
   ],
   "source": [
    "print(students[2])"
   ]
  },
  {
   "cell_type": "code",
   "execution_count": 31,
   "id": "789bf943",
   "metadata": {},
   "outputs": [
    {
     "name": "stdout",
     "output_type": "stream",
     "text": [
      "['suhail', 'kiaan', 'chaitanya', 'john', 'hina', 'shafi', 'aradhya', 'nusrat', 'sachin', 'lavanya']\n"
     ]
    }
   ],
   "source": [
    "print(students)"
   ]
  },
  {
   "cell_type": "code",
   "execution_count": null,
   "id": "81d44197",
   "metadata": {},
   "outputs": [],
   "source": []
  },
  {
   "cell_type": "code",
   "execution_count": null,
   "id": "4f6d59ae",
   "metadata": {},
   "outputs": [],
   "source": [
    "#How to delete the elements in the list"
   ]
  },
  {
   "cell_type": "code",
   "execution_count": 36,
   "id": "a3c461b6",
   "metadata": {},
   "outputs": [
    {
     "name": "stdout",
     "output_type": "stream",
     "text": [
      "['suhail', 'kiaan', 'chaitanya', 'john', 'shafi', 'aradhya', 'nusrat', 'sachin', 'lavanya']\n"
     ]
    }
   ],
   "source": [
    "print(students)"
   ]
  },
  {
   "cell_type": "code",
   "execution_count": null,
   "id": "f09d6635",
   "metadata": {},
   "outputs": [],
   "source": [
    "#req: i want to delete 'nusrat' from the above list...?"
   ]
  },
  {
   "cell_type": "code",
   "execution_count": 37,
   "id": "5a4f0175",
   "metadata": {},
   "outputs": [],
   "source": [
    "del students[6]"
   ]
  },
  {
   "cell_type": "code",
   "execution_count": 38,
   "id": "a28bf1a0",
   "metadata": {},
   "outputs": [
    {
     "name": "stdout",
     "output_type": "stream",
     "text": [
      "['suhail', 'kiaan', 'chaitanya', 'john', 'shafi', 'aradhya', 'sachin', 'lavanya']\n"
     ]
    }
   ],
   "source": [
    "print(students)"
   ]
  },
  {
   "cell_type": "code",
   "execution_count": null,
   "id": "a0869899",
   "metadata": {},
   "outputs": [],
   "source": []
  },
  {
   "cell_type": "code",
   "execution_count": null,
   "id": "743a80b4",
   "metadata": {},
   "outputs": [],
   "source": []
  },
  {
   "cell_type": "code",
   "execution_count": null,
   "id": "b9f5171b",
   "metadata": {},
   "outputs": [],
   "source": []
  },
  {
   "cell_type": "code",
   "execution_count": null,
   "id": "d1c86e0f",
   "metadata": {},
   "outputs": [],
   "source": []
  },
  {
   "cell_type": "code",
   "execution_count": null,
   "id": "654e8990",
   "metadata": {},
   "outputs": [],
   "source": []
  }
 ],
 "metadata": {
  "kernelspec": {
   "display_name": "Python 3 (ipykernel)",
   "language": "python",
   "name": "python3"
  },
  "language_info": {
   "codemirror_mode": {
    "name": "ipython",
    "version": 3
   },
   "file_extension": ".py",
   "mimetype": "text/x-python",
   "name": "python",
   "nbconvert_exporter": "python",
   "pygments_lexer": "ipython3",
   "version": "3.9.7"
  }
 },
 "nbformat": 4,
 "nbformat_minor": 5
}
