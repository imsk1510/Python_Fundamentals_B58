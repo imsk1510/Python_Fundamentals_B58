{
 "cells": [
  {
   "cell_type": "code",
   "execution_count": null,
   "id": "ad38bac1",
   "metadata": {},
   "outputs": [],
   "source": [
    "Introduction to dictionaries"
   ]
  },
  {
   "cell_type": "code",
   "execution_count": null,
   "id": "c53106cc",
   "metadata": {},
   "outputs": [],
   "source": [
    "# Introduction to dictionary\n",
    "\n",
    "Dictionary is a combibation of key value pairs.\n",
    "\n",
    "Classification: It is classified as mutable data type\n",
    "    \n",
    "How to define the dictionary data type =====> {}\n",
    "\n",
    "short form it is written as dict"
   ]
  },
  {
   "cell_type": "code",
   "execution_count": 25,
   "id": "d7fffaec",
   "metadata": {},
   "outputs": [],
   "source": [
    "alien = {\"colour\":\"green\",\n",
    "         \"points\":5,\n",
    "        \"life\":\"infinity\"}"
   ]
  },
  {
   "cell_type": "code",
   "execution_count": 26,
   "id": "c5a42991",
   "metadata": {},
   "outputs": [
    {
     "data": {
      "text/plain": [
       "dict"
      ]
     },
     "execution_count": 26,
     "metadata": {},
     "output_type": "execute_result"
    }
   ],
   "source": [
    "type(alien)"
   ]
  },
  {
   "cell_type": "code",
   "execution_count": null,
   "id": "c4c8ee78",
   "metadata": {},
   "outputs": [],
   "source": [
    "#how to access a key value pair in a dict"
   ]
  },
  {
   "cell_type": "code",
   "execution_count": null,
   "id": "a457821f",
   "metadata": {},
   "outputs": [],
   "source": [
    "# I want to know th ecolor of the alien"
   ]
  },
  {
   "cell_type": "code",
   "execution_count": 27,
   "id": "3aea0499",
   "metadata": {},
   "outputs": [
    {
     "name": "stdout",
     "output_type": "stream",
     "text": [
      "green\n"
     ]
    }
   ],
   "source": [
    "print(alien[\"colour\"])"
   ]
  },
  {
   "cell_type": "code",
   "execution_count": null,
   "id": "546a1bf1",
   "metadata": {},
   "outputs": [],
   "source": [
    "#req to add \"start_position\"=0"
   ]
  },
  {
   "cell_type": "code",
   "execution_count": 28,
   "id": "ab7f0e18",
   "metadata": {},
   "outputs": [],
   "source": [
    "alien['start_position']=0"
   ]
  },
  {
   "cell_type": "code",
   "execution_count": 29,
   "id": "ed4bae1d",
   "metadata": {},
   "outputs": [
    {
     "name": "stdout",
     "output_type": "stream",
     "text": [
      "{'colour': 'green', 'points': 5, 'life': 'infinity', 'start_position': 0}\n"
     ]
    }
   ],
   "source": [
    "print(alien)"
   ]
  },
  {
   "cell_type": "code",
   "execution_count": null,
   "id": "18ce170b",
   "metadata": {},
   "outputs": [],
   "source": [
    "#how to delete the key value pair"
   ]
  },
  {
   "cell_type": "code",
   "execution_count": null,
   "id": "85a800be",
   "metadata": {},
   "outputs": [],
   "source": [
    "#req: y to delete the points"
   ]
  },
  {
   "cell_type": "code",
   "execution_count": 30,
   "id": "e179f893",
   "metadata": {},
   "outputs": [],
   "source": [
    "del alien[\"points\"]"
   ]
  },
  {
   "cell_type": "code",
   "execution_count": 31,
   "id": "2ac2a4fd",
   "metadata": {},
   "outputs": [
    {
     "name": "stdout",
     "output_type": "stream",
     "text": [
      "{'colour': 'green', 'life': 'infinity', 'start_position': 0}\n"
     ]
    }
   ],
   "source": [
    "print(alien)"
   ]
  },
  {
   "cell_type": "code",
   "execution_count": null,
   "id": "7aa5875b",
   "metadata": {},
   "outputs": [],
   "source": []
  },
  {
   "cell_type": "code",
   "execution_count": null,
   "id": "b129bcf7",
   "metadata": {},
   "outputs": [],
   "source": [
    "#req: to change the color to yellow"
   ]
  },
  {
   "cell_type": "code",
   "execution_count": 15,
   "id": "a39c5d0f",
   "metadata": {},
   "outputs": [],
   "source": [
    "alien['colour']='yellow'"
   ]
  },
  {
   "cell_type": "code",
   "execution_count": 16,
   "id": "03fa58ad",
   "metadata": {},
   "outputs": [
    {
     "name": "stdout",
     "output_type": "stream",
     "text": [
      "{'colour': 'yellow', 'points': 5, 'life': 'infinity'}\n"
     ]
    }
   ],
   "source": [
    "print(alien)"
   ]
  },
  {
   "cell_type": "code",
   "execution_count": null,
   "id": "fcf77bb8",
   "metadata": {},
   "outputs": [],
   "source": []
  },
  {
   "cell_type": "code",
   "execution_count": 17,
   "id": "6f79e545",
   "metadata": {},
   "outputs": [
    {
     "name": "stdout",
     "output_type": "stream",
     "text": [
      "{'username': 'codetraining', 'firstname': 'code', 'lastname': 'training', 'dob': '01.01.2000', 'pwd': '54321'}\n"
     ]
    }
   ],
   "source": [
    "useraccount = {\"username\":\"codetraining\",\n",
    "               \"firstname\":\"code\",\n",
    "               \"lastname\":\"training\",\n",
    "               \"dob\":\"01.01.2000\",\n",
    "               \"pwd\":\"54321\"}\n",
    "print(useraccount)"
   ]
  },
  {
   "cell_type": "code",
   "execution_count": 21,
   "id": "9901703e",
   "metadata": {},
   "outputs": [],
   "source": [
    "useraccount[\"status_update\"] = 'farzi cafe'"
   ]
  },
  {
   "cell_type": "code",
   "execution_count": 22,
   "id": "09e4faed",
   "metadata": {},
   "outputs": [
    {
     "name": "stdout",
     "output_type": "stream",
     "text": [
      "{'username': 'codetraining', 'firstname': 'code', 'lastname': 'training', 'dob': '01.01.2000', 'pwd': '54321', 'status_update': 'farzi cafe'}\n"
     ]
    }
   ],
   "source": [
    "print(useraccount)"
   ]
  },
  {
   "cell_type": "code",
   "execution_count": null,
   "id": "3b7e266d",
   "metadata": {},
   "outputs": [],
   "source": []
  },
  {
   "cell_type": "code",
   "execution_count": null,
   "id": "57ccd543",
   "metadata": {},
   "outputs": [],
   "source": [
    "Implimentation of for loop on top of dictionary"
   ]
  },
  {
   "cell_type": "code",
   "execution_count": null,
   "id": "d4a4eec9",
   "metadata": {},
   "outputs": [],
   "source": []
  }
 ],
 "metadata": {
  "kernelspec": {
   "display_name": "Python 3 (ipykernel)",
   "language": "python",
   "name": "python3"
  },
  "language_info": {
   "codemirror_mode": {
    "name": "ipython",
    "version": 3
   },
   "file_extension": ".py",
   "mimetype": "text/x-python",
   "name": "python",
   "nbconvert_exporter": "python",
   "pygments_lexer": "ipython3",
   "version": "3.9.7"
  }
 },
 "nbformat": 4,
 "nbformat_minor": 5
}
