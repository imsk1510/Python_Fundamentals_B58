{
 "cells": [
  {
   "cell_type": "code",
   "execution_count": null,
   "id": "d799f275",
   "metadata": {},
   "outputs": [],
   "source": [
    "Understanding the variables in python"
   ]
  },
  {
   "cell_type": "code",
   "execution_count": 1,
   "id": "cd6036dd",
   "metadata": {},
   "outputs": [
    {
     "name": "stdout",
     "output_type": "stream",
     "text": [
      "5\n"
     ]
    }
   ],
   "source": [
    "x = 2\n",
    "y = 3\n",
    "z = x+y\n",
    "print(z)"
   ]
  },
  {
   "cell_type": "code",
   "execution_count": null,
   "id": "32079319",
   "metadata": {},
   "outputs": [],
   "source": [
    "Rules for declaring the variables in Python"
   ]
  },
  {
   "cell_type": "code",
   "execution_count": null,
   "id": "a75b829d",
   "metadata": {},
   "outputs": [],
   "source": [
    "Rule 1: No namespaces while declaring the variable"
   ]
  },
  {
   "cell_type": "code",
   "execution_count": 2,
   "id": "0d60d963",
   "metadata": {},
   "outputs": [
    {
     "ename": "SyntaxError",
     "evalue": "invalid syntax (Temp/ipykernel_15112/1845843181.py, line 1)",
     "output_type": "error",
     "traceback": [
      "\u001b[1;36m  File \u001b[1;32m\"C:\\Users\\sohai\\AppData\\Local\\Temp/ipykernel_15112/1845843181.py\"\u001b[1;36m, line \u001b[1;32m1\u001b[0m\n\u001b[1;33m    first name = \"Suhail\"\u001b[0m\n\u001b[1;37m          ^\u001b[0m\n\u001b[1;31mSyntaxError\u001b[0m\u001b[1;31m:\u001b[0m invalid syntax\n"
     ]
    }
   ],
   "source": [
    "first name = \"Suhail\"\n",
    "print(first name)"
   ]
  },
  {
   "cell_type": "code",
   "execution_count": 3,
   "id": "eaa7b04b",
   "metadata": {},
   "outputs": [
    {
     "name": "stdout",
     "output_type": "stream",
     "text": [
      "Suhail\n"
     ]
    }
   ],
   "source": [
    "firstname = \"Suhail\"\n",
    "print(firstname)"
   ]
  },
  {
   "cell_type": "code",
   "execution_count": null,
   "id": "ccfac47b",
   "metadata": {},
   "outputs": [],
   "source": [
    "Rule 2: Variable name should not start with a number **"
   ]
  },
  {
   "cell_type": "code",
   "execution_count": 6,
   "id": "14f05981",
   "metadata": {},
   "outputs": [
    {
     "ename": "SyntaxError",
     "evalue": "invalid syntax (Temp/ipykernel_15112/1449630471.py, line 1)",
     "output_type": "error",
     "traceback": [
      "\u001b[1;36m  File \u001b[1;32m\"C:\\Users\\sohai\\AppData\\Local\\Temp/ipykernel_15112/1449630471.py\"\u001b[1;36m, line \u001b[1;32m1\u001b[0m\n\u001b[1;33m    1name = \"Kiaan\"\u001b[0m\n\u001b[1;37m     ^\u001b[0m\n\u001b[1;31mSyntaxError\u001b[0m\u001b[1;31m:\u001b[0m invalid syntax\n"
     ]
    }
   ],
   "source": [
    "1name = \"Kiaan\"\n",
    "print(1name)"
   ]
  },
  {
   "cell_type": "code",
   "execution_count": 7,
   "id": "7e51839b",
   "metadata": {},
   "outputs": [
    {
     "name": "stdout",
     "output_type": "stream",
     "text": [
      "kiaan\n"
     ]
    }
   ],
   "source": [
    "name1 = \"kiaan\"\n",
    "print(name1)"
   ]
  },
  {
   "cell_type": "code",
   "execution_count": null,
   "id": "e61e8b86",
   "metadata": {},
   "outputs": [],
   "source": [
    "Rule 3: A variable should not contain any special characters"
   ]
  },
  {
   "cell_type": "code",
   "execution_count": 10,
   "id": "0fdd91f3",
   "metadata": {},
   "outputs": [
    {
     "ename": "SyntaxError",
     "evalue": "cannot assign to operator (Temp/ipykernel_15112/3206378318.py, line 1)",
     "output_type": "error",
     "traceback": [
      "\u001b[1;36m  File \u001b[1;32m\"C:\\Users\\sohai\\AppData\\Local\\Temp/ipykernel_15112/3206378318.py\"\u001b[1;36m, line \u001b[1;32m1\u001b[0m\n\u001b[1;33m    name@1 = \"kiaan\"\u001b[0m\n\u001b[1;37m    ^\u001b[0m\n\u001b[1;31mSyntaxError\u001b[0m\u001b[1;31m:\u001b[0m cannot assign to operator\n"
     ]
    }
   ],
   "source": [
    "name@1 = \"kiaan\"\n",
    "print(name1)"
   ]
  },
  {
   "cell_type": "code",
   "execution_count": null,
   "id": "11d2078d",
   "metadata": {},
   "outputs": [],
   "source": [
    "for executing the cells we have to press Shift+Enter"
   ]
  },
  {
   "cell_type": "code",
   "execution_count": null,
   "id": "df0b622d",
   "metadata": {},
   "outputs": [],
   "source": []
  },
  {
   "cell_type": "code",
   "execution_count": null,
   "id": "86061125",
   "metadata": {},
   "outputs": [],
   "source": [
    "Introduction to datatypes in python"
   ]
  },
  {
   "cell_type": "code",
   "execution_count": null,
   "id": "e897eb1b",
   "metadata": {},
   "outputs": [],
   "source": [
    "    1. Strings (str)\n",
    "    2. Number....Integers(int) and floats(float) decimals\n",
    "    3. list\n",
    "    4. tuples\n",
    "    5. Dictionary (dict)"
   ]
  },
  {
   "cell_type": "code",
   "execution_count": null,
   "id": "441b5130",
   "metadata": {},
   "outputs": [],
   "source": [
    "Classification of datatypes in python\n",
    "1. Mutable ===> (which we can edit or alter)===> flexible in nature\n",
    "2. Immutable ===> (which we cannot edit or alter)===> fixed in nature"
   ]
  },
  {
   "cell_type": "code",
   "execution_count": null,
   "id": "19d39c0e",
   "metadata": {},
   "outputs": [],
   "source": []
  },
  {
   "cell_type": "code",
   "execution_count": null,
   "id": "b0a31ae2",
   "metadata": {},
   "outputs": [],
   "source": [
    "Introduction to strings datatype:\n",
    "    \n",
    "definition: A string is a series of characters declared in quotes\n",
    "Classification: It is classified as immutable datatype\n",
    "    \n",
    "how to declare the string datatype???\n",
    "\n",
    "3 approaches of declaring the string\n",
    "\n",
    "1. Single quote\n",
    "2. Double quote\n",
    "3. Triple Quote"
   ]
  },
  {
   "cell_type": "code",
   "execution_count": 11,
   "id": "775553da",
   "metadata": {},
   "outputs": [
    {
     "name": "stdout",
     "output_type": "stream",
     "text": [
      "suhail hina kiaan\n"
     ]
    }
   ],
   "source": [
    "name1 = 'suhail' #single quotes\n",
    "name2 = \"hina\"  #double quotes\n",
    "name3 = '''kiaan'''  #tripple quotes\n",
    "print(name1,name2,name3)"
   ]
  },
  {
   "cell_type": "code",
   "execution_count": null,
   "id": "49cea554",
   "metadata": {},
   "outputs": [],
   "source": [
    "NOTE: # is used for commenting the lines in python"
   ]
  }
 ],
 "metadata": {
  "kernelspec": {
   "display_name": "Python 3 (ipykernel)",
   "language": "python",
   "name": "python3"
  },
  "language_info": {
   "codemirror_mode": {
    "name": "ipython",
    "version": 3
   },
   "file_extension": ".py",
   "mimetype": "text/x-python",
   "name": "python",
   "nbconvert_exporter": "python",
   "pygments_lexer": "ipython3",
   "version": "3.9.7"
  }
 },
 "nbformat": 4,
 "nbformat_minor": 5
}
